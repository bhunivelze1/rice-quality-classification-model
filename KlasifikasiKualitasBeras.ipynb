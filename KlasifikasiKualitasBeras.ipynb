{
  "cells": [
    {
      "cell_type": "markdown",
      "metadata": {
        "id": "view-in-github",
        "colab_type": "text"
      },
      "source": [
        "<a href=\"https://colab.research.google.com/github/bhunivelze1/rice-quality-classification-model/blob/main/KlasifikasiKualitasBeras.ipynb\" target=\"_parent\"><img src=\"https://colab.research.google.com/assets/colab-badge.svg\" alt=\"Open In Colab\"/></a>"
      ]
    },
    {
      "cell_type": "code",
      "execution_count": null,
      "metadata": {
        "id": "01PC4OXwT2Ut"
      },
      "outputs": [],
      "source": [
        "import numpy as np\n",
        "from matplotlib import pyplot as plt\n",
        "from sklearn.preprocessing import MinMaxScaler\n",
        "from sklearn.neighbors import KNeighborsClassifier\n",
        "from sklearn import metrics\n",
        "from skimage import data, io, feature, color, util, transform\n",
        "import joblib"
      ]
    },
    {
      "cell_type": "code",
      "source": [
        "IMAGE_DIMENSION = 128\n",
        "scaler = MinMaxScaler()"
      ],
      "metadata": {
        "id": "pMwDZIj1vRBV"
      },
      "execution_count": null,
      "outputs": []
    },
    {
      "cell_type": "markdown",
      "metadata": {
        "id": "t9lPvfpz4u9X"
      },
      "source": [
        "## Image Load"
      ]
    },
    {
      "cell_type": "code",
      "execution_count": null,
      "metadata": {
        "colab": {
          "base_uri": "https://localhost:8080/"
        },
        "id": "OZjuUycdwSqM",
        "outputId": "af09e2e7-0a25-4a9a-c8aa-daa1d22e054c"
      },
      "outputs": [
        {
          "output_type": "stream",
          "name": "stdout",
          "text": [
            "JUMLAH GAMBAR\n",
            "Beras Bagus: 491\n",
            "Beras Sedang: 214\n",
            "Beras Buruk: 204\n",
            "Total Gambar: 909 \n"
          ]
        }
      ],
      "source": [
        "riceGoodPath = './drive/MyDrive/Dataset/Beras/Bagus/*.jpg'\n",
        "riceMediumPath = './drive/MyDrive/Dataset/Beras/Sedang/*.jpg'\n",
        "riceBadPath = './drive/MyDrive/Dataset/Beras/Buruk/*.jpg'\n",
        "\n",
        "riceGoodImages = io.imread_collection(riceGoodPath)\n",
        "riceMediumImages = io.imread_collection(riceMediumPath)\n",
        "riceBadImages =io.imread_collection(riceBadPath)\n",
        "\n",
        "print(\"JUMLAH GAMBAR\")\n",
        "print(f'Beras Bagus: {len(riceGoodImages)}')\n",
        "print(f'Beras Sedang: {len(riceMediumImages)}')\n",
        "print(f'Beras Buruk: {len(riceBadImages)}')\n",
        "print(f'Total Gambar: {len(riceGoodImages) + len(riceMediumImages) + len(riceBadImages)} ')"
      ]
    },
    {
      "cell_type": "markdown",
      "source": [
        "##Image Check"
      ],
      "metadata": {
        "id": "SYAmJlWiL0ti"
      }
    },
    {
      "cell_type": "code",
      "source": [
        "for index, item in enumerate(riceBadImages):\n",
        "  if (item.shape[0] and item.shape[1]) != 128:\n",
        "    print(index, \":\", riceBadImages.files[index])"
      ],
      "metadata": {
        "id": "7xi-QQNlt_64"
      },
      "execution_count": null,
      "outputs": []
    },
    {
      "cell_type": "markdown",
      "metadata": {
        "id": "m_Okqg0q4q0-"
      },
      "source": [
        "## Preprocessing"
      ]
    },
    {
      "cell_type": "code",
      "execution_count": null,
      "metadata": {
        "id": "wnbkvpjGUHt6"
      },
      "outputs": [],
      "source": [
        "rice_good_image_list = []\n",
        "rice_medium_image_list = []\n",
        "rice_bad_image_list = []\n",
        "\n",
        "rice_good_color_features = np.array([[]])\n",
        "rice_good_shape_features = np.array([[]])\n",
        "rice_good_texture_features = np.array([[]])\n",
        "\n",
        "rice_medium_color_features = np.array([[]])\n",
        "rice_medium_shape_features = np.array([[]])\n",
        "rice_medium_texture_features = np.array([[]])\n",
        "\n",
        "rice_bad_color_features = np.array([[]])\n",
        "rice_bad_shape_features = np.array([[]])\n",
        "rice_bad_texture_features = np.array([[]])\n",
        "\n",
        "rice_good_image_data = np.array([[]])\n",
        "rice_medium_image_data = np.array([[]])\n",
        "rice_bad_image_data = np.array([[]])\n",
        "\n",
        "for riceGoodImage in riceGoodImages:\n",
        "  rice_good_image_list.append(riceGoodImage)\n",
        "\n",
        "for riceMediumImage in riceMediumImages:\n",
        "  rice_medium_image_list.append(riceMediumImage)\n",
        "\n",
        "for riceBadImage in riceBadImages:\n",
        "  rice_bad_image_list.append(riceBadImage)"
      ]
    },
    {
      "cell_type": "markdown",
      "metadata": {
        "id": "PQFzj9Va5mj0"
      },
      "source": [
        "## Feature Extraction"
      ]
    },
    {
      "cell_type": "markdown",
      "metadata": {
        "id": "2TB_vzpm5oN5"
      },
      "source": [
        "###Color"
      ]
    },
    {
      "cell_type": "code",
      "execution_count": null,
      "metadata": {
        "id": "-0n-5gWgUI1m"
      },
      "outputs": [],
      "source": [
        "rice_good_hsv_image_first = color.rgb2hsv(rice_good_image_list[0])\n",
        "rice_good_color_averaged_image_first = np.mean(rice_good_hsv_image_first, axis=2)\n",
        "rice_good_flattened_image_first = rice_good_color_averaged_image_first.flatten()\n",
        "rice_good_color_features = np.append(rice_good_color_features, [rice_good_flattened_image_first], axis=1)\n",
        "\n",
        "for index in range(1, len(rice_good_image_list)):\n",
        "  hsv_image = color.rgb2hsv(rice_good_image_list[index])\n",
        "  color_averaged_image = np.mean(hsv_image, axis=2)\n",
        "  flattened_image = color_averaged_image.flatten()\n",
        "  rice_good_color_features = np.append(rice_good_color_features, [flattened_image], axis=0)"
      ]
    },
    {
      "cell_type": "code",
      "source": [
        "rice_medium_hsv_image_first = color.rgb2hsv(rice_medium_image_list[0])\n",
        "rice_medium_color_averaged_image_first = np.mean(rice_medium_hsv_image_first, axis=2)\n",
        "rice_medium_flattened_image_first = rice_medium_color_averaged_image_first.flatten()\n",
        "rice_medium_color_features = np.append(rice_medium_color_features, [rice_medium_flattened_image_first], axis=1)\n",
        "\n",
        "for index in range(1, len(rice_medium_image_list)):\n",
        "  hsv_image = color.rgb2hsv(rice_medium_image_list[index])\n",
        "  color_averaged_image = np.mean(hsv_image, axis=2)\n",
        "  flattened_image = color_averaged_image.flatten()\n",
        "  rice_medium_color_features = np.append(rice_medium_color_features, [flattened_image], axis=0)"
      ],
      "metadata": {
        "id": "L554oNQ23ToR"
      },
      "execution_count": null,
      "outputs": []
    },
    {
      "cell_type": "code",
      "source": [
        "rice_bad_hsv_image_first = color.rgb2hsv(rice_bad_image_list[0])\n",
        "rice_bad_color_averaged_image_first = np.mean(rice_bad_hsv_image_first, axis=2)\n",
        "rice_bad_flattened_image_first = rice_bad_color_averaged_image_first.flatten()\n",
        "rice_bad_color_features = np.append(rice_bad_color_features, [rice_bad_flattened_image_first], axis=1)\n",
        "\n",
        "for index in range(1, len(rice_bad_image_list)):\n",
        "  hsv_image = color.rgb2hsv(rice_bad_image_list[index])\n",
        "  color_averaged_image = np.mean(hsv_image, axis=2)\n",
        "  flattened_image = color_averaged_image.flatten()\n",
        "  rice_bad_color_features = np.append(rice_bad_color_features, [flattened_image], axis=0)"
      ],
      "metadata": {
        "id": "ZvQynje_3UTx"
      },
      "execution_count": null,
      "outputs": []
    },
    {
      "cell_type": "code",
      "source": [
        "rice_good_color_features = scaler.fit_transform(rice_good_color_features)\n",
        "rice_medium_color_features = scaler.fit_transform(rice_medium_color_features)\n",
        "rice_bad_color_features = scaler.fit_transform(rice_bad_color_features)"
      ],
      "metadata": {
        "id": "aASdnWZaV46A"
      },
      "execution_count": null,
      "outputs": []
    },
    {
      "cell_type": "code",
      "source": [
        "print(f'Rice Good Color Features: {rice_good_color_features.shape}')\n",
        "print(f'Rice Medium Color Features: {rice_medium_color_features.shape}')\n",
        "print(f'Rice Bad Color Features: {rice_bad_color_features.shape}')"
      ],
      "metadata": {
        "colab": {
          "base_uri": "https://localhost:8080/"
        },
        "id": "gooUMXO2huAi",
        "outputId": "4745b6f3-12e4-49e1-cf4d-b22bc75ace74"
      },
      "execution_count": null,
      "outputs": [
        {
          "output_type": "stream",
          "name": "stdout",
          "text": [
            "Rice Good Color Features: (491, 16384)\n",
            "Rice Medium Color Features: (214, 16384)\n",
            "Rice Bad Color Features: (204, 16384)\n"
          ]
        }
      ]
    },
    {
      "cell_type": "markdown",
      "metadata": {
        "id": "CrHq8sym5snM"
      },
      "source": [
        "###Shape"
      ]
    },
    {
      "cell_type": "code",
      "execution_count": null,
      "metadata": {
        "id": "1vl6juVLULam"
      },
      "outputs": [],
      "source": [
        "rice_good_greyscale_canny_image_first = color.rgb2gray(rice_good_image_list[0])\n",
        "rice_good_canny_image_first = feature.canny(rice_good_greyscale_canny_image_first)\n",
        "rice_good_encoded_canny_image_first = rice_good_canny_image_first.astype(int)\n",
        "rice_good_flattened_canny_image_first = rice_good_encoded_canny_image_first.flatten()\n",
        "rice_good_shape_features = np.append(rice_good_shape_features, [rice_good_flattened_canny_image_first], axis=1)\n",
        "\n",
        "for index in range(1, len(rice_good_image_list)):\n",
        "  greyscale_canny_image = color.rgb2gray(rice_good_image_list[index])\n",
        "  canny_image = feature.canny(greyscale_canny_image)\n",
        "  encoded_canny_image = canny_image.astype(int)\n",
        "  flattened_canny_image= encoded_canny_image.flatten()\n",
        "  rice_good_shape_features = np.append(rice_good_shape_features, [flattened_canny_image], axis=0)\n",
        "\n"
      ]
    },
    {
      "cell_type": "code",
      "source": [
        "rice_medium_greyscale_canny_image_first = color.rgb2gray(rice_medium_image_list[0])\n",
        "rice_medium_canny_image_first = feature.canny(rice_medium_greyscale_canny_image_first)\n",
        "rice_medium_encoded_canny_image_first = rice_medium_canny_image_first.astype(int)\n",
        "rice_medium_flattened_canny_image_first = rice_medium_encoded_canny_image_first.flatten()\n",
        "rice_medium_shape_features = np.append(rice_medium_shape_features, [rice_medium_flattened_canny_image_first], axis=1)\n",
        "\n",
        "for index in range(1, len(rice_medium_image_list)):\n",
        "  greyscale_canny_image = color.rgb2gray(rice_medium_image_list[index])\n",
        "  canny_image = feature.canny(greyscale_canny_image)\n",
        "  encoded_canny_image = canny_image.astype(int)\n",
        "  flattened_canny_image= encoded_canny_image.flatten()\n",
        "  rice_medium_shape_features = np.append(rice_medium_shape_features, [flattened_canny_image], axis=0)"
      ],
      "metadata": {
        "id": "7rt-fYLP4Hx5"
      },
      "execution_count": null,
      "outputs": []
    },
    {
      "cell_type": "code",
      "source": [
        "rice_bad_greyscale_canny_image_first = color.rgb2gray(rice_bad_image_list[0])\n",
        "rice_bad_canny_image_first = feature.canny(rice_bad_greyscale_canny_image_first)\n",
        "rice_bad_encoded_canny_image_first = rice_bad_canny_image_first.astype(int)\n",
        "rice_bad_flattened_canny_image_first  = rice_bad_encoded_canny_image_first.flatten()\n",
        "rice_bad_shape_features = np.append(rice_bad_shape_features, [rice_bad_flattened_canny_image_first], axis=1)\n",
        "\n",
        "for index in range(1, len(rice_bad_image_list)):\n",
        "  greyscale_canny_image = color.rgb2gray(rice_bad_image_list[index])\n",
        "  canny_image = feature.canny(greyscale_canny_image)\n",
        "  encoded_canny_image = canny_image.astype(int)\n",
        "  flattened_canny_image= encoded_canny_image.flatten()\n",
        "  rice_bad_shape_features = np.append(rice_bad_shape_features, [flattened_canny_image], axis=0)"
      ],
      "metadata": {
        "id": "odAt2lPM4NC7"
      },
      "execution_count": null,
      "outputs": []
    },
    {
      "cell_type": "code",
      "source": [
        "print(f'Rice Good Shape Features: {rice_good_shape_features.shape}')\n",
        "print(f'Rice Medium Shape Features: {rice_medium_shape_features.shape}')\n",
        "print(f'Rice Bad Shape Features: {rice_bad_shape_features.shape}')"
      ],
      "metadata": {
        "id": "F9SWfMDQ4mAk"
      },
      "execution_count": null,
      "outputs": []
    },
    {
      "cell_type": "markdown",
      "metadata": {
        "id": "rnRN4_lP5uMb"
      },
      "source": [
        "### Texture"
      ]
    },
    {
      "cell_type": "code",
      "execution_count": null,
      "metadata": {
        "id": "frdayXwoUNSW"
      },
      "outputs": [],
      "source": [
        "rice_good_greyscale_glcm_image_first = color.rgb2gray(rice_good_image_list[0])\n",
        "rice_good_greyscale_glcm_image_first = util.img_as_ubyte(rice_good_greyscale_glcm_image_first)\n",
        "rice_good_glcm_first = feature.greycomatrix(rice_good_greyscale_glcm_image_first, [1], [0, np.pi/4, np.pi/2, 3*np.pi/4])\n",
        "\n",
        "rice_good_prop_contrast_first = feature.greycoprops(rice_good_glcm_first, 'contrast')[0,0]\n",
        "rice_good_prop_dissimilarity_first = feature.greycoprops(rice_good_glcm_first, 'dissimilarity')[0,0]\n",
        "rice_good_prop_homogeneity_first = feature.greycoprops(rice_good_glcm_first, 'homogeneity')[0,0]\n",
        "rice_good_prop_ASM_first = feature.greycoprops(rice_good_glcm_first, 'ASM')[0,0]\n",
        "rice_good_prop_energy_first = feature.greycoprops(rice_good_glcm_first, 'energy')[0,0]\n",
        "rice_good_prop_correlation_first = feature.greycoprops(rice_good_glcm_first, 'correlation')[0,0]\n",
        "\n",
        "rice_good_texture_features_array_first = [rice_good_prop_contrast_first, rice_good_prop_dissimilarity_first, rice_good_prop_homogeneity_first,\n",
        "                          rice_good_prop_ASM_first, rice_good_prop_energy_first, rice_good_prop_correlation_first]\n",
        "\n",
        "rice_good_texture_features = np.append(rice_good_texture_features, [rice_good_texture_features_array_first], axis=1)\n",
        "\n",
        "for index in range(1, len(rice_good_image_list)):\n",
        "  greyscale_glcm_image = color.rgb2gray(rice_good_image_list[index])\n",
        "  greyscale_glcm_image = util.img_as_ubyte(greyscale_glcm_image)\n",
        "  glcm = feature.greycomatrix(greyscale_glcm_image, [1], [0, np.pi/4, np.pi/2, 3*np.pi/4])\n",
        "\n",
        "  prop_contrast = feature.greycoprops(glcm, 'contrast')[0,0]\n",
        "  prop_dissimilarity = feature.greycoprops(glcm, 'dissimilarity')[0,0]\n",
        "  prop_homogeneity = feature.greycoprops(glcm, 'homogeneity')[0,0]\n",
        "  prop_ASM = feature.greycoprops(glcm, 'ASM')[0,0]\n",
        "  prop_energy = feature.greycoprops(glcm, 'energy')[0,0]\n",
        "  prop_correlation = feature.greycoprops(glcm, 'correlation')[0,0]\n",
        "\n",
        "  texture_features_array = [prop_contrast, prop_dissimilarity, prop_homogeneity, prop_ASM, prop_energy, prop_correlation]\n",
        "\n",
        "  rice_good_texture_features = np.append(rice_good_texture_features, [texture_features_array], axis=0)"
      ]
    },
    {
      "cell_type": "code",
      "source": [],
      "metadata": {
        "id": "iklnQuLVOl6m"
      },
      "execution_count": null,
      "outputs": []
    },
    {
      "cell_type": "code",
      "source": [
        "rice_medium_greyscale_glcm_image_first = color.rgb2gray(rice_medium_image_list[0])\n",
        "rice_medium_greyscale_glcm_image_first = util.img_as_ubyte(rice_medium_greyscale_glcm_image_first)\n",
        "rice_medium_glcm_first = feature.greycomatrix(rice_medium_greyscale_glcm_image_first, [1], [0, np.pi/4, np.pi/2, 3*np.pi/4])\n",
        "\n",
        "rice_medium_prop_contrast_first = feature.greycoprops(rice_medium_glcm_first, 'contrast')[0,0]\n",
        "rice_medium_prop_dissimilarity_first = feature.greycoprops(rice_medium_glcm_first, 'dissimilarity')[0,0]\n",
        "rice_medium_prop_homogeneity_first = feature.greycoprops(rice_medium_glcm_first, 'homogeneity')[0,0]\n",
        "rice_medium_prop_ASM_first = feature.greycoprops(rice_medium_glcm_first, 'ASM')[0,0]\n",
        "rice_medium_prop_energy_first = feature.greycoprops(rice_medium_glcm_first, 'energy')[0,0]\n",
        "rice_medium_prop_correlation_first = feature.greycoprops(rice_medium_glcm_first, 'correlation')[0,0]\n",
        "\n",
        "rice_medium_texture_features_array_first = [rice_medium_prop_contrast_first, rice_medium_prop_dissimilarity_first, rice_medium_prop_homogeneity_first,\n",
        "                          rice_medium_prop_ASM_first, rice_medium_prop_energy_first, rice_medium_prop_correlation_first]\n",
        "\n",
        "rice_medium_texture_features = np.append(rice_medium_texture_features, [rice_medium_texture_features_array_first], axis=1)\n",
        "\n",
        "for index in range(1, len(rice_medium_image_list)):\n",
        "  greyscale_glcm_image = color.rgb2gray(rice_medium_image_list[index])\n",
        "  greyscale_glcm_image = util.img_as_ubyte(greyscale_glcm_image)\n",
        "  glcm = feature.greycomatrix(greyscale_glcm_image, [1], [0, np.pi/4, np.pi/2, 3*np.pi/4])\n",
        "\n",
        "  prop_contrast = feature.greycoprops(glcm, 'contrast')[0,0]\n",
        "  prop_dissimilarity = feature.greycoprops(glcm, 'dissimilarity')[0,0]\n",
        "  prop_homogeneity = feature.greycoprops(glcm, 'homogeneity')[0,0]\n",
        "  prop_ASM = feature.greycoprops(glcm, 'ASM')[0,0]\n",
        "  prop_energy = feature.greycoprops(glcm, 'energy')[0,0]\n",
        "  prop_correlation = feature.greycoprops(glcm, 'correlation')[0,0]\n",
        "\n",
        "  texture_features = [prop_contrast, prop_dissimilarity, prop_homogeneity, prop_ASM, prop_energy, prop_correlation]\n",
        "\n",
        "  rice_medium_texture_features = np.append(rice_medium_texture_features, [texture_features], axis=0)"
      ],
      "metadata": {
        "id": "Ig_Lk8kb429X"
      },
      "execution_count": null,
      "outputs": []
    },
    {
      "cell_type": "code",
      "source": [
        "rice_bad_greyscale_glcm_image_first = color.rgb2gray(rice_bad_image_list[0])\n",
        "rice_bad_greyscale_glcm_image_first = util.img_as_ubyte(rice_bad_greyscale_glcm_image_first)\n",
        "rice_bad_glcm_first = feature.greycomatrix(rice_bad_greyscale_glcm_image_first, [1], [0, np.pi/4, np.pi/2, 3*np.pi/4])\n",
        "\n",
        "rice_bad_prop_contrast_first = feature.greycoprops(rice_bad_glcm_first, 'contrast')[0,0]\n",
        "rice_bad_prop_dissimilarity_first = feature.greycoprops(rice_bad_glcm_first, 'dissimilarity')[0,0]\n",
        "rice_bad_prop_homogeneity_first = feature.greycoprops(rice_bad_glcm_first, 'homogeneity')[0,0]\n",
        "rice_bad_prop_ASM_first = feature.greycoprops(rice_bad_glcm_first, 'ASM')[0,0]\n",
        "rice_bad_prop_energy_first = feature.greycoprops(rice_bad_glcm_first, 'energy')[0,0]\n",
        "rice_bad_prop_correlation_first = feature.greycoprops(rice_bad_glcm_first, 'correlation')[0,0]\n",
        "\n",
        "rice_bad_texture_features_first = [rice_bad_prop_contrast_first, rice_bad_prop_dissimilarity_first, rice_bad_prop_homogeneity_first,\n",
        "                                   rice_bad_prop_ASM_first, rice_bad_prop_energy_first, rice_bad_prop_correlation_first]\n",
        "\n",
        "rice_bad_texture_features = np.append(rice_bad_texture_features, [rice_bad_texture_features_first], axis=1)\n",
        "\n",
        "for index in range(1, len(rice_bad_image_list)):\n",
        "  greyscale_glcm_image = color.rgb2gray(rice_bad_image_list[index])\n",
        "  greyscale_glcm_image = util.img_as_ubyte(greyscale_glcm_image)\n",
        "  glcm = feature.greycomatrix(greyscale_glcm_image, [1], [0, np.pi/4, np.pi/2, 3*np.pi/4])\n",
        "\n",
        "  prop_contrast = feature.greycoprops(glcm, 'contrast')[0,0]\n",
        "  prop_dissimilarity = feature.greycoprops(glcm, 'dissimilarity')[0,0]\n",
        "  prop_homogeneity = feature.greycoprops(glcm, 'homogeneity')[0,0]\n",
        "  prop_ASM = feature.greycoprops(glcm, 'ASM')[0,0]\n",
        "  prop_energy = feature.greycoprops(glcm, 'energy')[0,0]\n",
        "  prop_correlation = feature.greycoprops(glcm, 'correlation')[0,0]\n",
        "\n",
        "  texture_features = [prop_contrast, prop_dissimilarity, prop_homogeneity, prop_ASM, prop_energy, prop_correlation]\n",
        "\n",
        "  rice_bad_texture_features = np.append(rice_bad_texture_features, [texture_features], axis=0)"
      ],
      "metadata": {
        "id": "FFo7vLJE43uV"
      },
      "execution_count": null,
      "outputs": []
    },
    {
      "cell_type": "code",
      "source": [
        "rice_good_texture_features = scaler.fit_transform(rice_good_texture_features)\n",
        "rice_medium_texture_features = scaler.fit_transform(rice_medium_texture_features)\n",
        "rice_bad_texture_features = scaler.fit_transform(rice_bad_texture_features)"
      ],
      "metadata": {
        "id": "TVP5EEYj58oi"
      },
      "execution_count": null,
      "outputs": []
    },
    {
      "cell_type": "code",
      "source": [
        "print(f'Rice Good Texture Features: {rice_good_texture_features.shape}')\n",
        "print(f'Rice Medium Texture Features: {rice_medium_texture_features.shape}')\n",
        "print(f'Rice Bad Texture Features: {rice_bad_texture_features.shape}')"
      ],
      "metadata": {
        "id": "vhMXuB0cntMQ"
      },
      "execution_count": null,
      "outputs": []
    },
    {
      "cell_type": "markdown",
      "metadata": {
        "id": "ZshcHETo56C7"
      },
      "source": [
        "## Building Dataset"
      ]
    },
    {
      "cell_type": "code",
      "source": [
        "rice_good_image_data = np.hstack([rice_good_color_features, rice_good_shape_features, rice_good_texture_features])\n",
        "rice_medium_image_data = np.hstack([rice_medium_color_features, rice_medium_shape_features, rice_medium_texture_features])\n",
        "rice_bad_image_data = np.hstack([rice_bad_color_features, rice_bad_shape_features, rice_bad_texture_features])"
      ],
      "metadata": {
        "id": "ozJnZlMLvpOX"
      },
      "execution_count": null,
      "outputs": []
    },
    {
      "cell_type": "markdown",
      "source": [
        "### Feature Dataset"
      ],
      "metadata": {
        "id": "tjBMPFU17bm4"
      }
    },
    {
      "cell_type": "code",
      "source": [
        "features_train = np.array([[]])\n",
        "features_test = np.array([[]])"
      ],
      "metadata": {
        "id": "tL98dHMBKGIe"
      },
      "execution_count": null,
      "outputs": []
    },
    {
      "cell_type": "code",
      "execution_count": null,
      "metadata": {
        "id": "A-rkO5tpUPGT"
      },
      "outputs": [],
      "source": [
        "rice_good_features_train, rice_good_features_test = np.split(rice_good_image_data, [int(len(rice_good_image_data)*0.8)], axis=0)\n",
        "rice_medium_features_train, rice_medium_features_test = np.split(rice_medium_image_data, [int(len(rice_medium_image_data)*0.8)], axis=0)\n",
        "rice_bad_features_train, rice_bad_features_test = np.split(rice_bad_image_data, [int(len(rice_bad_image_data)*0.8)], axis=0)"
      ]
    },
    {
      "cell_type": "code",
      "source": [
        "features_train = np.vstack([rice_good_features_train, rice_medium_features_train, rice_bad_features_train])\n",
        "features_test = np.vstack([rice_good_features_test, rice_medium_features_test, rice_bad_features_test])"
      ],
      "metadata": {
        "id": "cpLW5MMd1N-h"
      },
      "execution_count": null,
      "outputs": []
    },
    {
      "cell_type": "markdown",
      "source": [
        "### Label Dataset"
      ],
      "metadata": {
        "id": "dcyWtn9v7gex"
      }
    },
    {
      "cell_type": "code",
      "source": [
        "labels_train = np.array([]).astype(np.int16)\n",
        "labels_test = np.array([]).astype(np.int16)"
      ],
      "metadata": {
        "id": "ElJQ8O3eKSy8"
      },
      "execution_count": null,
      "outputs": []
    },
    {
      "cell_type": "code",
      "source": [
        "rice_good_labels = np.array([]).astype(np.int16)\n",
        "rice_medium_labels = np.array([]).astype(np.int16)\n",
        "rice_bad_labels = np.array([]).astype(np.int16)"
      ],
      "metadata": {
        "id": "OTo4eLBHMG5S"
      },
      "execution_count": null,
      "outputs": []
    },
    {
      "cell_type": "code",
      "execution_count": null,
      "metadata": {
        "id": "7nlaqW3M0hUM"
      },
      "outputs": [],
      "source": [
        "for x in range(len(rice_good_image_data)):\n",
        "  rice_good_labels = np.append(rice_good_labels, 2)\n",
        "\n",
        "for x in range(len(rice_medium_image_data)):\n",
        "  rice_medium_labels = np.append(rice_medium_labels, 1)\n",
        "\n",
        "for x in range(len(rice_bad_image_data)):\n",
        "  rice_bad_labels = np.append(rice_bad_labels, 0)"
      ]
    },
    {
      "cell_type": "code",
      "source": [
        "rice_good_labels_train, rice_good_labels_test = np.split(rice_good_labels, [int(len(rice_good_labels)*0.8)], axis=0)\n",
        "rice_medium_labels_train, rice_medium_labels_test = np.split(rice_medium_labels, [int(len(rice_medium_labels)*0.8)], axis=0)\n",
        "rice_bad_labels_train, rice_bad_labels_test = np.split(rice_bad_labels, [int(len(rice_bad_labels)*0.8)], axis=0)"
      ],
      "metadata": {
        "id": "bPHHk9F3MrpF"
      },
      "execution_count": null,
      "outputs": []
    },
    {
      "cell_type": "code",
      "source": [
        "labels_train = np.hstack([rice_good_labels_train, rice_medium_labels_train, rice_bad_labels_train])\n",
        "labels_test = np.hstack([rice_good_labels_test, rice_medium_labels_test, rice_bad_labels_test])"
      ],
      "metadata": {
        "id": "VOjBas7_LfMc"
      },
      "execution_count": null,
      "outputs": []
    },
    {
      "cell_type": "markdown",
      "metadata": {
        "id": "PfLf2VJQ6MWl"
      },
      "source": [
        "## Training & Testing Model"
      ]
    },
    {
      "cell_type": "code",
      "execution_count": null,
      "metadata": {
        "id": "VBnFzwZ3UUSj",
        "colab": {
          "base_uri": "https://localhost:8080/",
          "height": 1000
        },
        "outputId": "fd2912d3-f349-48b9-e458-c91b24b1c42e"
      },
      "outputs": [
        {
          "output_type": "error",
          "ename": "ValueError",
          "evalue": "ignored",
          "traceback": [
            "\u001b[0;31m---------------------------------------------------------------------------\u001b[0m",
            "\u001b[0;31mValueError\u001b[0m                                Traceback (most recent call last)",
            "\u001b[0;32m<ipython-input-54-02e6b2fb6f7f>\u001b[0m in \u001b[0;36m<module>\u001b[0;34m\u001b[0m\n\u001b[1;32m      1\u001b[0m \u001b[0mmodel\u001b[0m \u001b[0;34m=\u001b[0m \u001b[0mKNeighborsClassifier\u001b[0m\u001b[0;34m(\u001b[0m\u001b[0mn_neighbors\u001b[0m\u001b[0;34m=\u001b[0m\u001b[0;36m2\u001b[0m\u001b[0;34m)\u001b[0m\u001b[0;34m\u001b[0m\u001b[0;34m\u001b[0m\u001b[0m\n\u001b[0;32m----> 2\u001b[0;31m \u001b[0mmodel\u001b[0m\u001b[0;34m.\u001b[0m\u001b[0mfit\u001b[0m\u001b[0;34m(\u001b[0m\u001b[0mfeatures_train\u001b[0m\u001b[0;34m,\u001b[0m \u001b[0mlabels_train\u001b[0m\u001b[0;34m)\u001b[0m\u001b[0;34m\u001b[0m\u001b[0;34m\u001b[0m\u001b[0m\n\u001b[0m\u001b[1;32m      3\u001b[0m \u001b[0mprediction_result\u001b[0m \u001b[0;34m=\u001b[0m \u001b[0mmodel\u001b[0m\u001b[0;34m.\u001b[0m\u001b[0mpredict\u001b[0m\u001b[0;34m(\u001b[0m\u001b[0mfeatures_test\u001b[0m\u001b[0;34m)\u001b[0m\u001b[0;34m\u001b[0m\u001b[0;34m\u001b[0m\u001b[0m\n\u001b[1;32m      4\u001b[0m \u001b[0mprediction_accuracy\u001b[0m \u001b[0;34m=\u001b[0m \u001b[0mmetrics\u001b[0m\u001b[0;34m.\u001b[0m\u001b[0maccuracy_score\u001b[0m\u001b[0;34m(\u001b[0m\u001b[0mlabels_test\u001b[0m\u001b[0;34m,\u001b[0m \u001b[0mprediction_result\u001b[0m\u001b[0;34m)\u001b[0m\u001b[0;34m\u001b[0m\u001b[0;34m\u001b[0m\u001b[0m\n\u001b[1;32m      5\u001b[0m \u001b[0mprint\u001b[0m\u001b[0;34m(\u001b[0m\u001b[0;34mf'{round(prediction_accuracy * 100)}%'\u001b[0m\u001b[0;34m)\u001b[0m\u001b[0;34m\u001b[0m\u001b[0;34m\u001b[0m\u001b[0m\n",
            "\u001b[0;32m/usr/local/lib/python3.8/dist-packages/sklearn/neighbors/_classification.py\u001b[0m in \u001b[0;36mfit\u001b[0;34m(self, X, y)\u001b[0m\n\u001b[1;32m    196\u001b[0m         \u001b[0mself\u001b[0m\u001b[0;34m.\u001b[0m\u001b[0mweights\u001b[0m \u001b[0;34m=\u001b[0m \u001b[0m_check_weights\u001b[0m\u001b[0;34m(\u001b[0m\u001b[0mself\u001b[0m\u001b[0;34m.\u001b[0m\u001b[0mweights\u001b[0m\u001b[0;34m)\u001b[0m\u001b[0;34m\u001b[0m\u001b[0;34m\u001b[0m\u001b[0m\n\u001b[1;32m    197\u001b[0m \u001b[0;34m\u001b[0m\u001b[0m\n\u001b[0;32m--> 198\u001b[0;31m         \u001b[0;32mreturn\u001b[0m \u001b[0mself\u001b[0m\u001b[0;34m.\u001b[0m\u001b[0m_fit\u001b[0m\u001b[0;34m(\u001b[0m\u001b[0mX\u001b[0m\u001b[0;34m,\u001b[0m \u001b[0my\u001b[0m\u001b[0;34m)\u001b[0m\u001b[0;34m\u001b[0m\u001b[0;34m\u001b[0m\u001b[0m\n\u001b[0m\u001b[1;32m    199\u001b[0m \u001b[0;34m\u001b[0m\u001b[0m\n\u001b[1;32m    200\u001b[0m     \u001b[0;32mdef\u001b[0m \u001b[0mpredict\u001b[0m\u001b[0;34m(\u001b[0m\u001b[0mself\u001b[0m\u001b[0;34m,\u001b[0m \u001b[0mX\u001b[0m\u001b[0;34m)\u001b[0m\u001b[0;34m:\u001b[0m\u001b[0;34m\u001b[0m\u001b[0;34m\u001b[0m\u001b[0m\n",
            "\u001b[0;32m/usr/local/lib/python3.8/dist-packages/sklearn/neighbors/_base.py\u001b[0m in \u001b[0;36m_fit\u001b[0;34m(self, X, y)\u001b[0m\n\u001b[1;32m    398\u001b[0m         \u001b[0;32mif\u001b[0m \u001b[0mself\u001b[0m\u001b[0;34m.\u001b[0m\u001b[0m_get_tags\u001b[0m\u001b[0;34m(\u001b[0m\u001b[0;34m)\u001b[0m\u001b[0;34m[\u001b[0m\u001b[0;34m\"requires_y\"\u001b[0m\u001b[0;34m]\u001b[0m\u001b[0;34m:\u001b[0m\u001b[0;34m\u001b[0m\u001b[0;34m\u001b[0m\u001b[0m\n\u001b[1;32m    399\u001b[0m             \u001b[0;32mif\u001b[0m \u001b[0;32mnot\u001b[0m \u001b[0misinstance\u001b[0m\u001b[0;34m(\u001b[0m\u001b[0mX\u001b[0m\u001b[0;34m,\u001b[0m \u001b[0;34m(\u001b[0m\u001b[0mKDTree\u001b[0m\u001b[0;34m,\u001b[0m \u001b[0mBallTree\u001b[0m\u001b[0;34m,\u001b[0m \u001b[0mNeighborsBase\u001b[0m\u001b[0;34m)\u001b[0m\u001b[0;34m)\u001b[0m\u001b[0;34m:\u001b[0m\u001b[0;34m\u001b[0m\u001b[0;34m\u001b[0m\u001b[0m\n\u001b[0;32m--> 400\u001b[0;31m                 \u001b[0mX\u001b[0m\u001b[0;34m,\u001b[0m \u001b[0my\u001b[0m \u001b[0;34m=\u001b[0m \u001b[0mself\u001b[0m\u001b[0;34m.\u001b[0m\u001b[0m_validate_data\u001b[0m\u001b[0;34m(\u001b[0m\u001b[0mX\u001b[0m\u001b[0;34m,\u001b[0m \u001b[0my\u001b[0m\u001b[0;34m,\u001b[0m \u001b[0maccept_sparse\u001b[0m\u001b[0;34m=\u001b[0m\u001b[0;34m\"csr\"\u001b[0m\u001b[0;34m,\u001b[0m \u001b[0mmulti_output\u001b[0m\u001b[0;34m=\u001b[0m\u001b[0;32mTrue\u001b[0m\u001b[0;34m)\u001b[0m\u001b[0;34m\u001b[0m\u001b[0;34m\u001b[0m\u001b[0m\n\u001b[0m\u001b[1;32m    401\u001b[0m \u001b[0;34m\u001b[0m\u001b[0m\n\u001b[1;32m    402\u001b[0m             \u001b[0;32mif\u001b[0m \u001b[0mis_classifier\u001b[0m\u001b[0;34m(\u001b[0m\u001b[0mself\u001b[0m\u001b[0;34m)\u001b[0m\u001b[0;34m:\u001b[0m\u001b[0;34m\u001b[0m\u001b[0;34m\u001b[0m\u001b[0m\n",
            "\u001b[0;32m/usr/local/lib/python3.8/dist-packages/sklearn/base.py\u001b[0m in \u001b[0;36m_validate_data\u001b[0;34m(self, X, y, reset, validate_separately, **check_params)\u001b[0m\n\u001b[1;32m    579\u001b[0m                 \u001b[0my\u001b[0m \u001b[0;34m=\u001b[0m \u001b[0mcheck_array\u001b[0m\u001b[0;34m(\u001b[0m\u001b[0my\u001b[0m\u001b[0;34m,\u001b[0m \u001b[0;34m**\u001b[0m\u001b[0mcheck_y_params\u001b[0m\u001b[0;34m)\u001b[0m\u001b[0;34m\u001b[0m\u001b[0;34m\u001b[0m\u001b[0m\n\u001b[1;32m    580\u001b[0m             \u001b[0;32melse\u001b[0m\u001b[0;34m:\u001b[0m\u001b[0;34m\u001b[0m\u001b[0;34m\u001b[0m\u001b[0m\n\u001b[0;32m--> 581\u001b[0;31m                 \u001b[0mX\u001b[0m\u001b[0;34m,\u001b[0m \u001b[0my\u001b[0m \u001b[0;34m=\u001b[0m \u001b[0mcheck_X_y\u001b[0m\u001b[0;34m(\u001b[0m\u001b[0mX\u001b[0m\u001b[0;34m,\u001b[0m \u001b[0my\u001b[0m\u001b[0;34m,\u001b[0m \u001b[0;34m**\u001b[0m\u001b[0mcheck_params\u001b[0m\u001b[0;34m)\u001b[0m\u001b[0;34m\u001b[0m\u001b[0;34m\u001b[0m\u001b[0m\n\u001b[0m\u001b[1;32m    582\u001b[0m             \u001b[0mout\u001b[0m \u001b[0;34m=\u001b[0m \u001b[0mX\u001b[0m\u001b[0;34m,\u001b[0m \u001b[0my\u001b[0m\u001b[0;34m\u001b[0m\u001b[0;34m\u001b[0m\u001b[0m\n\u001b[1;32m    583\u001b[0m \u001b[0;34m\u001b[0m\u001b[0m\n",
            "\u001b[0;32m/usr/local/lib/python3.8/dist-packages/sklearn/utils/validation.py\u001b[0m in \u001b[0;36mcheck_X_y\u001b[0;34m(X, y, accept_sparse, accept_large_sparse, dtype, order, copy, force_all_finite, ensure_2d, allow_nd, multi_output, ensure_min_samples, ensure_min_features, y_numeric, estimator)\u001b[0m\n\u001b[1;32m    977\u001b[0m     )\n\u001b[1;32m    978\u001b[0m \u001b[0;34m\u001b[0m\u001b[0m\n\u001b[0;32m--> 979\u001b[0;31m     \u001b[0my\u001b[0m \u001b[0;34m=\u001b[0m \u001b[0m_check_y\u001b[0m\u001b[0;34m(\u001b[0m\u001b[0my\u001b[0m\u001b[0;34m,\u001b[0m \u001b[0mmulti_output\u001b[0m\u001b[0;34m=\u001b[0m\u001b[0mmulti_output\u001b[0m\u001b[0;34m,\u001b[0m \u001b[0my_numeric\u001b[0m\u001b[0;34m=\u001b[0m\u001b[0my_numeric\u001b[0m\u001b[0;34m)\u001b[0m\u001b[0;34m\u001b[0m\u001b[0;34m\u001b[0m\u001b[0m\n\u001b[0m\u001b[1;32m    980\u001b[0m \u001b[0;34m\u001b[0m\u001b[0m\n\u001b[1;32m    981\u001b[0m     \u001b[0mcheck_consistent_length\u001b[0m\u001b[0;34m(\u001b[0m\u001b[0mX\u001b[0m\u001b[0;34m,\u001b[0m \u001b[0my\u001b[0m\u001b[0;34m)\u001b[0m\u001b[0;34m\u001b[0m\u001b[0;34m\u001b[0m\u001b[0m\n",
            "\u001b[0;32m/usr/local/lib/python3.8/dist-packages/sklearn/utils/validation.py\u001b[0m in \u001b[0;36m_check_y\u001b[0;34m(y, multi_output, y_numeric)\u001b[0m\n\u001b[1;32m    987\u001b[0m     \u001b[0;34m\"\"\"Isolated part of check_X_y dedicated to y validation\"\"\"\u001b[0m\u001b[0;34m\u001b[0m\u001b[0;34m\u001b[0m\u001b[0m\n\u001b[1;32m    988\u001b[0m     \u001b[0;32mif\u001b[0m \u001b[0mmulti_output\u001b[0m\u001b[0;34m:\u001b[0m\u001b[0;34m\u001b[0m\u001b[0;34m\u001b[0m\u001b[0m\n\u001b[0;32m--> 989\u001b[0;31m         y = check_array(\n\u001b[0m\u001b[1;32m    990\u001b[0m             \u001b[0my\u001b[0m\u001b[0;34m,\u001b[0m \u001b[0maccept_sparse\u001b[0m\u001b[0;34m=\u001b[0m\u001b[0;34m\"csr\"\u001b[0m\u001b[0;34m,\u001b[0m \u001b[0mforce_all_finite\u001b[0m\u001b[0;34m=\u001b[0m\u001b[0;32mTrue\u001b[0m\u001b[0;34m,\u001b[0m \u001b[0mensure_2d\u001b[0m\u001b[0;34m=\u001b[0m\u001b[0;32mFalse\u001b[0m\u001b[0;34m,\u001b[0m \u001b[0mdtype\u001b[0m\u001b[0;34m=\u001b[0m\u001b[0;32mNone\u001b[0m\u001b[0;34m\u001b[0m\u001b[0;34m\u001b[0m\u001b[0m\n\u001b[1;32m    991\u001b[0m         )\n",
            "\u001b[0;32m/usr/local/lib/python3.8/dist-packages/sklearn/utils/validation.py\u001b[0m in \u001b[0;36mcheck_array\u001b[0;34m(array, accept_sparse, accept_large_sparse, dtype, order, copy, force_all_finite, ensure_2d, allow_nd, ensure_min_samples, ensure_min_features, estimator)\u001b[0m\n\u001b[1;32m    803\u001b[0m         \u001b[0mn_samples\u001b[0m \u001b[0;34m=\u001b[0m \u001b[0m_num_samples\u001b[0m\u001b[0;34m(\u001b[0m\u001b[0marray\u001b[0m\u001b[0;34m)\u001b[0m\u001b[0;34m\u001b[0m\u001b[0;34m\u001b[0m\u001b[0m\n\u001b[1;32m    804\u001b[0m         \u001b[0;32mif\u001b[0m \u001b[0mn_samples\u001b[0m \u001b[0;34m<\u001b[0m \u001b[0mensure_min_samples\u001b[0m\u001b[0;34m:\u001b[0m\u001b[0;34m\u001b[0m\u001b[0;34m\u001b[0m\u001b[0m\n\u001b[0;32m--> 805\u001b[0;31m             raise ValueError(\n\u001b[0m\u001b[1;32m    806\u001b[0m                 \u001b[0;34m\"Found array with %d sample(s) (shape=%s) while a\"\u001b[0m\u001b[0;34m\u001b[0m\u001b[0;34m\u001b[0m\u001b[0m\n\u001b[1;32m    807\u001b[0m                 \u001b[0;34m\" minimum of %d is required%s.\"\u001b[0m\u001b[0;34m\u001b[0m\u001b[0;34m\u001b[0m\u001b[0m\n",
            "\u001b[0;31mValueError\u001b[0m: Found array with 0 sample(s) (shape=(0,)) while a minimum of 1 is required."
          ]
        }
      ],
      "source": [
        "model = KNeighborsClassifier(n_neighbors=2)\n",
        "model.fit(features_train, labels_train)\n",
        "prediction_result = model.predict(features_test)\n",
        "prediction_accuracy = metrics.accuracy_score(labels_test, prediction_result)\n",
        "print(f'{round(prediction_accuracy * 100)}%')"
      ]
    },
    {
      "cell_type": "markdown",
      "metadata": {
        "id": "NRsmH8wI6Tl3"
      },
      "source": [
        "##Saving"
      ]
    },
    {
      "cell_type": "code",
      "execution_count": null,
      "metadata": {
        "id": "2dyF6T996YyO"
      },
      "outputs": [],
      "source": [
        "model_filename = 'rice_classification_model.sav'\n",
        "joblib.dump(model, model_filename)"
      ]
    }
  ],
  "metadata": {
    "colab": {
      "provenance": [],
      "mount_file_id": "15EpxCsXOz0GSRJ0aVZG1anlKOQJHNU6R",
      "authorship_tag": "ABX9TyOzr2P4K/fuHzzMPsU8GaDy",
      "include_colab_link": true
    },
    "kernelspec": {
      "display_name": "Python 3",
      "name": "python3"
    },
    "language_info": {
      "name": "python"
    }
  },
  "nbformat": 4,
  "nbformat_minor": 0
}